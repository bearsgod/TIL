{
 "cells": [
  {
   "cell_type": "code",
   "execution_count": 3,
   "metadata": {},
   "outputs": [
    {
     "name": "stdout",
     "output_type": "stream",
     "text": [
      "24\n",
      "3.0\n"
     ]
    }
   ],
   "source": [
    "import math\n",
    "\n",
    "num = int(input())\n",
    "k = math.log(n/3,2)\n",
    "def star(n):\n",
    "    base = n*5+n-1\n",
    "    if k == 0:\n",
    "        return ['  *  ',' * * ','*****']\n",
    "    else:\n",
    "        basement = star(n-1)\n",
    "        for i in range(len(basement)):\n",
    "            starall[i] = basement[i] + ' ' + basement[i]\n",
    "        return basement + starall"
   ]
  }
 ],
 "metadata": {
  "kernelspec": {
   "display_name": "Python 3",
   "language": "python",
   "name": "python3"
  },
  "language_info": {
   "codemirror_mode": {
    "name": "ipython",
    "version": 3
   },
   "file_extension": ".py",
   "mimetype": "text/x-python",
   "name": "python",
   "nbconvert_exporter": "python",
   "pygments_lexer": "ipython3",
   "version": "3.7.1"
  }
 },
 "nbformat": 4,
 "nbformat_minor": 2
}
