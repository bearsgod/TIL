{
 "cells": [
  {
   "cell_type": "markdown",
   "metadata": {},
   "source": [
    "# 행맨 게임 만들기 "
   ]
  },
  {
   "cell_type": "markdown",
   "metadata": {},
   "source": [
    "## 답안 확인 하기\n",
    "\n",
    "> 행맨 게임을 위한 코드를 작성해봅시다. \n",
    ">\n",
    "> `isanswer(answer, letters)`는 정답 문자열(answer)과 추측 알파벳의 리스트(letters)를 받아서, True/False 결과를 반환합니다."
   ]
  },
  {
   "cell_type": "code",
   "execution_count": 1,
   "metadata": {},
   "outputs": [],
   "source": [
    "# 여기에 코드를 작성하세요.\n",
    "def isanswer(answer, letters):\n",
    "    token=0\n",
    "    for i in range(len(answer)):\n",
    "        if not answer[i] in letters:\n",
    "            token=1\n",
    "    if token:\n",
    "        return False\n",
    "    return True"
   ]
  },
  {
   "cell_type": "code",
   "execution_count": 2,
   "metadata": {
    "scrolled": true
   },
   "outputs": [
    {
     "data": {
      "text/plain": [
       "False"
      ]
     },
     "execution_count": 2,
     "metadata": {},
     "output_type": "execute_result"
    }
   ],
   "source": [
    "isanswer('apple', ['a', 'p', 'l']) #=> False"
   ]
  },
  {
   "cell_type": "markdown",
   "metadata": {},
   "source": [
    "## 현재 상태 출력하기\n",
    "\n",
    "> 행맨 게임을 위한 코드를 작성해봅시다. \n",
    ">\n",
    "> `status(answer, letters)`는 정답 문자열(answer)과 추측 알파벳의 리스트(letters)를 받아서, 현재 결과를 반환합니다."
   ]
  },
  {
   "cell_type": "code",
   "execution_count": 3,
   "metadata": {},
   "outputs": [],
   "source": [
    "# replace\n",
    "def status(answer, letters):\n",
    "    result=answer\n",
    "    index=[]\n",
    "    for i in range(len(answer)):\n",
    "        if not answer[i] in letters:\n",
    "            result=result.replace(answer[i],'_')\n",
    "    return result"
   ]
  },
  {
   "cell_type": "code",
   "execution_count": 4,
   "metadata": {},
   "outputs": [
    {
     "data": {
      "text/plain": [
       "'appl_'"
      ]
     },
     "execution_count": 4,
     "metadata": {},
     "output_type": "execute_result"
    }
   ],
   "source": [
    "status('apple', ['a', 'p', 'l']) #=> 'appl_'"
   ]
  },
  {
   "cell_type": "markdown",
   "metadata": {},
   "source": [
    "## 행맨 로직 만들기 - 자유코딩!\n",
    "\n",
    "> 위의 코드를 활용하여 `hangman(answer)`를 만들어봅시다!\n",
    ">\n",
    "> 사용자가 답을 맞출 때까지 진행하며, 8번내로 정답을 맞춰야 합니다.\n"
   ]
  },
  {
   "cell_type": "code",
   "execution_count": 10,
   "metadata": {},
   "outputs": [],
   "source": [
    "HANGMANPICS = ['''\n",
    "  +---+\n",
    "      | 7 left\n",
    "      |\n",
    "      |\n",
    "      |\n",
    "      |\n",
    "=========''','''\n",
    "  +---+\n",
    "  |   | 6 left\n",
    "      |\n",
    "      |\n",
    "      |\n",
    "      |\n",
    "=========''', '''\n",
    "  +---+\n",
    "  |   | 5 left\n",
    "  O   |\n",
    "      |\n",
    "      |\n",
    "      |\n",
    "=========''', '''\n",
    "  +---+\n",
    "  |   | 4 left\n",
    "  O   |\n",
    "  |   |\n",
    "      |\n",
    "      |\n",
    "=========''', '''\n",
    "  +---+\n",
    "  |   | 3 left\n",
    "  O   |\n",
    " /|l  |\n",
    "      |\n",
    "      |\n",
    "=========''', '''\n",
    "  +---+\n",
    "  |   | 2 left\n",
    "  O   |\n",
    " /|l  |\n",
    "      |\n",
    "      |\n",
    "=========''', '''\n",
    "  +---+\n",
    "  |   | last chance!\n",
    "  O   |\n",
    " /|l  |\n",
    " /    |\n",
    "      |\n",
    "=========''', '''\n",
    "  +---+\n",
    "  |   | you idiot!\n",
    "  O   |\n",
    " /|l  |\n",
    " / l  |\n",
    "      |\n",
    "=========''']\n",
    "\n",
    "ANSWERPIC = '''\n",
    " 0   Yeah!\n",
    "l|/\n",
    "/ l'''\n",
    "\n",
    "def hangman(answer):\n",
    "    choose=[]\n",
    "    for i in range(8):\n",
    "        k=input('글자를 넣어주세요: ')\n",
    "        if len(k)>1:\n",
    "            print('한 글자만 넣어주세요')\n",
    "            print(f'{HANGMANPICS[i]}')\n",
    "            continue\n",
    "        else:\n",
    "            token=0\n",
    "            if k in choose:\n",
    "                print('이미 선택한 글자인걸요? 다시 골라주세요')\n",
    "                token=1\n",
    "            else:\n",
    "                choose.append(k)\n",
    "                print(status(answer,choose))\n",
    "        if token==1:\n",
    "            print(f'{HANGMANPICS[i]}')\n",
    "            continue\n",
    "        if isanswer(answer,choose):\n",
    "            print('정답입니다!')\n",
    "            print(ANSWERPIC)\n",
    "            break\n",
    "        else:\n",
    "            print(f'{HANGMANPICS[i]}')\n",
    "    else:\n",
    "        print(f'쥬금 으앙... 정답은 {answer}이에요')"
   ]
  },
  {
   "cell_type": "code",
   "execution_count": 12,
   "metadata": {},
   "outputs": [
    {
     "name": "stdout",
     "output_type": "stream",
     "text": [
      "글자를 넣어주세요: e\n",
      "e_____e__\n",
      "\n",
      "  +---+\n",
      "      | 7 left\n",
      "      |\n",
      "      |\n",
      "      |\n",
      "      |\n",
      "=========\n",
      "글자를 넣어주세요: l\n",
      "e_____e__\n",
      "\n",
      "  +---+\n",
      "  |   | 6 left\n",
      "      |\n",
      "      |\n",
      "      |\n",
      "      |\n",
      "=========\n",
      "글자를 넣어주세요: d\n",
      "e_d___e__\n",
      "\n",
      "  +---+\n",
      "  |   | 5 left\n",
      "  O   |\n",
      "      |\n",
      "      |\n",
      "      |\n",
      "=========\n",
      "글자를 넣어주세요: r\n",
      "e_d___er_\n",
      "\n",
      "  +---+\n",
      "  |   | 4 left\n",
      "  O   |\n",
      "  |   |\n",
      "      |\n",
      "      |\n",
      "=========\n",
      "글자를 넣어주세요: i\n",
      "e_d___er_\n",
      "\n",
      "  +---+\n",
      "  |   | 3 left\n",
      "  O   |\n",
      " /|l  |\n",
      "      |\n",
      "      |\n",
      "=========\n",
      "글자를 넣어주세요: a\n",
      "e_d___er_\n",
      "\n",
      "  +---+\n",
      "  |   | 2 left\n",
      "  O   |\n",
      " /|l  |\n",
      "      |\n",
      "      |\n",
      "=========\n",
      "글자를 넣어주세요: t\n",
      "e_d___er_\n",
      "\n",
      "  +---+\n",
      "  |   | last chance!\n",
      "  O   |\n",
      " /|l  |\n",
      " /    |\n",
      "      |\n",
      "=========\n",
      "글자를 넣어주세요: c\n",
      "e_d___er_\n",
      "\n",
      "  +---+\n",
      "  |   | you idiot!\n",
      "  O   |\n",
      " /|l  |\n",
      " / l  |\n",
      "      |\n",
      "=========\n",
      "쥬금 으앙... 정답은 endosperm이에요\n"
     ]
    }
   ],
   "source": [
    "from random_word import RandomWords\n",
    "\n",
    "def starthang():\n",
    "    r=RandomWords()\n",
    "    answer=r.get_random_word()\n",
    "    hangman(answer)\n",
    "\n",
    "starthang()"
   ]
  },
  {
   "cell_type": "code",
   "execution_count": null,
   "metadata": {},
   "outputs": [],
   "source": [
    "from sys import executable                                                        \n",
    "print(executable)"
   ]
  },
  {
   "cell_type": "code",
   "execution_count": null,
   "metadata": {},
   "outputs": [],
   "source": [
    "hangman('apple')"
   ]
  }
 ],
 "metadata": {
  "kernelspec": {
   "display_name": "Python 3",
   "language": "python",
   "name": "python3"
  },
  "language_info": {
   "codemirror_mode": {
    "name": "ipython",
    "version": 3
   },
   "file_extension": ".py",
   "mimetype": "text/x-python",
   "name": "python",
   "nbconvert_exporter": "python",
   "pygments_lexer": "ipython3",
   "version": "3.7.1"
  },
  "latex_envs": {
   "LaTeX_envs_menu_present": true,
   "autoclose": false,
   "autocomplete": true,
   "bibliofile": "biblio.bib",
   "cite_by": "apalike",
   "current_citInitial": 1,
   "eqLabelWithNumbers": true,
   "eqNumInitial": 1,
   "hotkeys": {
    "equation": "Ctrl-E",
    "itemize": "Ctrl-I"
   },
   "labels_anchors": false,
   "latex_user_defs": false,
   "report_style_numbering": false,
   "user_envs_cfg": false
  },
  "toc": {
   "base_numbering": 1,
   "nav_menu": {},
   "number_sections": true,
   "sideBar": true,
   "skip_h1_title": false,
   "title_cell": "Table of Contents",
   "title_sidebar": "Contents",
   "toc_cell": false,
   "toc_position": {},
   "toc_section_display": true,
   "toc_window_display": false
  }
 },
 "nbformat": 4,
 "nbformat_minor": 2
}
